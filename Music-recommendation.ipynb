{
  "nbformat": 4,
  "nbformat_minor": 0,
  "metadata": {
    "colab": {
      "provenance": [],
      "authorship_tag": "ABX9TyOabdlpsh62ygvmb5Mj1XRL",
      "include_colab_link": true
    },
    "kernelspec": {
      "name": "python3",
      "display_name": "Python 3"
    },
    "language_info": {
      "name": "python"
    }
  },
  "cells": [
    {
      "cell_type": "markdown",
      "metadata": {
        "id": "view-in-github",
        "colab_type": "text"
      },
      "source": [
        "<a href=\"https://colab.research.google.com/github/Supun009/Counter/blob/main/Music-recommendation.ipynb\" target=\"_parent\"><img src=\"https://colab.research.google.com/assets/colab-badge.svg\" alt=\"Open In Colab\"/></a>"
      ]
    },
    {
      "cell_type": "code",
      "execution_count": 12,
      "metadata": {
        "colab": {
          "base_uri": "https://localhost:8080/"
        },
        "id": "l9VuPdtjPKQj",
        "outputId": "f6796c53-61f0-4f6b-9585-01cf46ceaf74"
      },
      "outputs": [
        {
          "output_type": "execute_result",
          "data": {
            "text/plain": [
              "0.5"
            ]
          },
          "metadata": {},
          "execution_count": 12
        }
      ],
      "source": [
        "import pandas as pd\n",
        "from sklearn.tree import DecisionTreeClassifier\n",
        "from sklearn.model_selection import train_test_split\n",
        "from sklearn.metrics import accuracy_score\n",
        "\n",
        "\n",
        "\n",
        "music_data = pd.read_csv('https://raw.githubusercontent.com/Supun009/music.cvs/refs/heads/main/music.csv')\n",
        "X = music_data.drop(columns=['genre'] )\n",
        "y = music_data['genre']\n",
        "X_train, X_test, y_train, y_test = train_test_split(X, y, test_size=0.2)\n",
        "\n",
        "\n",
        "\n",
        "model = DecisionTreeClassifier()\n",
        "\n",
        "model.fit(X_train, y_train)\n",
        "predictions =  model.predict(X_test)\n",
        "\n",
        "score = accuracy_score(y_test, predictions)\n",
        "score"
      ]
    },
    {
      "cell_type": "code",
      "source": [
        "import pandas as pd\n",
        "from sklearn.tree import DecisionTreeClassifier\n",
        "import joblib\n",
        "\n",
        "\n",
        "music_data = pd.read_csv('https://raw.githubusercontent.com/Supun009/music.cvs/refs/heads/main/music.csv')\n",
        "X = music_data.drop(columns=['genre'] )\n",
        "y = music_data['genre']\n",
        "\n",
        "\n",
        "model = DecisionTreeClassifier()\n",
        "model.fit(X, y)\n",
        "\n",
        "joblib.dump(model, 'music-recommender.joblib')\n",
        "\n",
        "# predictions =  model.predict(X, y)\n",
        "\n"
      ],
      "metadata": {
        "colab": {
          "base_uri": "https://localhost:8080/"
        },
        "id": "YeiYUbsRQxF2",
        "outputId": "97777d2d-13d2-44d1-8266-a059f231f776"
      },
      "execution_count": 14,
      "outputs": [
        {
          "output_type": "execute_result",
          "data": {
            "text/plain": [
              "['music-recommender.joblib']"
            ]
          },
          "metadata": {},
          "execution_count": 14
        }
      ]
    },
    {
      "cell_type": "code",
      "source": [
        "from google.colab import drive\n",
        "drive.mount('/content/drive')"
      ],
      "metadata": {
        "id": "KekaTkcRol9D"
      },
      "execution_count": null,
      "outputs": []
    },
    {
      "cell_type": "code",
      "source": [
        "from sklearn.tree import DecisionTreeClassifier\n",
        "import joblib\n",
        "\n",
        "\n",
        "# model = DecisionTreeClassifier()\n",
        "\n",
        "model = joblib.load('music-recommender.joblib')\n",
        "\n",
        "prediction_data = pd.DataFrame({\n",
        "    'age': [21],\n",
        "    'gender': [1]\n",
        "})\n",
        "\n",
        "predictions =  model.predict(prediction_data)\n",
        "predictions\n",
        "\n"
      ],
      "metadata": {
        "colab": {
          "base_uri": "https://localhost:8080/"
        },
        "id": "JVTb4C4PWcev",
        "outputId": "70726407-781a-4118-f3e6-2f926a74a480"
      },
      "execution_count": 15,
      "outputs": [
        {
          "output_type": "execute_result",
          "data": {
            "text/plain": [
              "array(['HipHop'], dtype=object)"
            ]
          },
          "metadata": {},
          "execution_count": 15
        }
      ]
    },
    {
      "cell_type": "code",
      "source": [
        "import pandas as pd\n",
        "from sklearn.tree import DecisionTreeClassifier\n",
        "from sklearn import tree\n",
        "\n",
        "music_data = pd.read_csv('https://raw.githubusercontent.com/Supun009/music.cvs/refs/heads/main/music.csv')\n",
        "X = music_data.drop(columns=['genre'] )\n",
        "y = music_data['genre']\n",
        "\n",
        "\n",
        "model = DecisionTreeClassifier()\n",
        "model.fit(X, y)\n",
        "\n",
        "tree.export_graphviz(model, out_file= 'music-recommended.dot',\n",
        "                     feature_names = ['age', 'gender'],\n",
        "                     class_names = sorted(y.unique()),\n",
        "                     label = 'all',\n",
        "                     rounded =True,\n",
        "                     filled= True)\n",
        "\n"
      ],
      "metadata": {
        "id": "Qd6MBaIdY0Sw"
      },
      "execution_count": 18,
      "outputs": []
    }
  ]
}